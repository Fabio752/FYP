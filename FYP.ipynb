{
 "cells": [
  {
   "cell_type": "code",
   "execution_count": 25,
   "metadata": {},
   "outputs": [],
   "source": [
    "%matplotlib inline\n",
    "import brian2 as b2\n",
    "from brian2 import *\n",
    "import numpy as np"
   ]
  },
  {
   "cell_type": "code",
   "execution_count": 26,
   "metadata": {},
   "outputs": [],
   "source": [
    "set_device('cpp_standalone')"
   ]
  },
  {
   "cell_type": "code",
   "execution_count": 27,
   "metadata": {},
   "outputs": [],
   "source": [
    "imgs_path = '/home/fabio/Documents/Imperial/FYP/imgs/'"
   ]
  },
  {
   "cell_type": "code",
   "execution_count": 28,
   "metadata": {},
   "outputs": [],
   "source": [
    "# INFO FROM PAPER\n",
    "# coupled all to all\n",
    "# NO refractory period\n",
    "\n",
    "def visualise_connectivity(S):\n",
    "    Ns = len(S.source)\n",
    "    Nt = len(S.target)\n",
    "    figure(figsize=(10, 4))\n",
    "    subplot(121)\n",
    "    plot(zeros(Ns), arange(Ns), 'ok', ms=10)\n",
    "    plot(ones(Nt), arange(Nt), 'ok', ms=10)\n",
    "    for i, j in zip(S.i, S.j):\n",
    "        plot([0, 1], [i, j], '-k')\n",
    "    xticks([0, 1], ['Source', 'Target'])\n",
    "    ylabel('Neuron index')\n",
    "    xlim(-0.1, 1.1)\n",
    "    ylim(-1, max(Ns, Nt))\n",
    "    subplot(122)\n",
    "    plot(S.i, S.j, 'ok')\n",
    "    xlim(-1, Ns)\n",
    "    ylim(-1, Nt)\n",
    "    xlabel('Source neuron index')\n",
    "    ylabel('Target neuron index')\n",
    "    show()\n"
   ]
  },
  {
   "cell_type": "code",
   "execution_count": 29,
   "metadata": {},
   "outputs": [],
   "source": [
    "def nice_plot(sp_m, st_m, neuron_idxs, plot_voltages=True):\n",
    "\n",
    "    fig, ax = plt.subplots(4, figsize=(8, 20), sharex=True)\n",
    "\n",
    "    ax[0].plot(sp_m.t / ms, sp_m.i, '.k', ms=3)\n",
    "\n",
    "    if plot_voltages:\n",
    "        for i in neuron_idxs:\n",
    "            ax[1].plot(st_m.t / ms, st_m.V[i] / mV, label=\"Neuron \" + str(i))\n",
    "\n",
    "    ax[0].set_ylabel(\"cells\")\n",
    "    \n",
    "    ax[1].legend(loc=\"upper right\")\n",
    "    ax[1].set_ylabel(\"Voltages\")\n",
    "    \n",
    "    ax[2].plot(st_m.t / ms, st_m.s[neuron_idxs].T / mV, lw=1, ls=\"--\")\n",
    "    ax[2].set_ylabel(\"s\")\n",
    "\n",
    "    ax[3].plot(st_m.t / ms, st_m.I_syn[neuron_idxs].T / mV, lw=1, ls=\"--\")\n",
    "    ax[3].set_ylabel(\"I_syn\")\n",
    "    ax[3].set_xlabel(\"time (ms)\")\n",
    "    \n",
    "    plt.show()"
   ]
  },
  {
   "cell_type": "code",
   "execution_count": 30,
   "metadata": {},
   "outputs": [],
   "source": [
    "# Parameters\n",
    "N         =     128                           # number of neurons\n",
    "gl        =     0.1   *    mS / cm**2         # conductance of the voltage-independent leak current\n",
    "Vl        =     -60   *       mV              # reversal potential of the voltage-independent leak current\n",
    "C         =       1   *  ufarad / cm**2       # membrane capacitance\n",
    "tau       =      10   *       ms          \n",
    "theta     =     -40   *       mV              # membrane potential threshold\n",
    "tau1      =       3   *       ms              \n",
    "tau2      =       1   *       ms    \n",
    "I0        =     2.3   *     uA / cm**2        # I0 / C -> get 2.3 kHz, time that by tau to get 23 mvolts. \n",
    "\n",
    "# FOR INITIAL CONDITION \n",
    "# T = -tau * log((tau/second * I0 - theta) / (tau/second * I0 - Vl)) # FROM PREPRINT PAPER\n",
    "T = -tau * log(1 - gl/I0 * (theta - Vl)) # FROM FINAL PAPER\n",
    "c = 0.9"
   ]
  },
  {
   "cell_type": "code",
   "execution_count": 31,
   "metadata": {},
   "outputs": [],
   "source": [
    "# Assuming time was measured in ms and dimensionless (in paper)\n",
    "# we assume that time is not dimensionless and when dimensions don't\n",
    "# match multiply/divide by ms."
   ]
  },
  {
   "cell_type": "code",
   "execution_count": 48,
   "metadata": {},
   "outputs": [],
   "source": [
    "def simulation(dt, rt, I_syn_bar_magnitude, method = 'euler'):\n",
    "    start_scope()\n",
    "    device.reinit()\n",
    "    device.activate()\n",
    "    I_syn_bar = I_syn_bar_magnitude * uA / cm**2\n",
    "    k = 1 / tau2\n",
    "   # k = 100 / tau1 # should be 1 / tau2 but 100/tau1 gives the right shape for 1 Neuron!\n",
    "\n",
    "    eqs = '''\n",
    "    dV/dt = (-gl * (V - Vl) + I_syn + I0) / C : volt\n",
    "    I_syn = (I_syn_bar / N) * f *10 * ms     : amp / metre**2\n",
    "    df/dt = (k * s - f) / tau1                : 1 / second\n",
    "    ds/dt = -s / tau2                         : 1\n",
    "    '''\n",
    "\n",
    "    defaultclock.dt = dt * ms\n",
    "    runtime = rt * ms\n",
    "\n",
    "    ########### NEURONS #######################\n",
    "    G = NeuronGroup(N, eqs, threshold='V > theta', reset='V = Vl', method=method, name = 'G')\n",
    "\n",
    "    G.V = -60 * mV\n",
    "    G.s = 1\n",
    "    \n",
    "    ########### SYNAPSES #######################    \n",
    "    S = Synapses(G, G, on_pre= \"s += 1\", name = 'S')\n",
    "\n",
    "    ## Connect\n",
    "    S.connect(condition='i!=j')\n",
    "\n",
    "    # INIT.\n",
    "    G.V = ''' Vl + I0 / gl * (1 - exp(-c * (i * T) / (N * tau))) '''\n",
    "#     for idx in range(N):\n",
    "#         #curr_V0 = tau/second * I0 + (Vl - (tau/second) * I0) * exp((-c * idx * T) / (N * tau)) # FROM PREPRINT PAPER\n",
    "#         curr_V0 = Vl + I0 / gl * (1 - exp(-c * (idx * T) / (N * tau))) # FROM FINAL PAPER\n",
    "#         G.V[idx] = curr_V0\n",
    "\n",
    "\n",
    "    # MONITORS\n",
    "\n",
    "    sp_m = b2.SpikeMonitor(G, name='sp_m') # SPIKE \n",
    "    st_m = b2.StateMonitor(G,[\"V\", \"I_syn\", \"s\"], record=True, name = 'st_m') # STATE\n",
    "\n",
    "    net = b2.Network(G)\n",
    "    net.add(sp_m)\n",
    "    net.add(S)\n",
    "    net.add(st_m)\n",
    "    \n",
    "    b2.run(runtime)\n",
    "\n",
    "    return sp_m, st_m\n"
   ]
  },
  {
   "cell_type": "code",
   "execution_count": 49,
   "metadata": {},
   "outputs": [],
   "source": [
    "def sync_measure(V):\n",
    "    # Initialise lists.\n",
    "    v_i_squared = np.square(V)\n",
    "    avg_potentials = np.mean(V, axis = 0)\n",
    "\n",
    "    # Compute delta_n\n",
    "    squared_potentials = np.square(avg_potentials)\n",
    "    delta_n = np.mean(squared_potentials) - np.square(np.mean(avg_potentials))\n",
    "    \n",
    "    # Compute delta\n",
    "    mean_v_i_squared = np.square(np.mean(V, axis = 1))\n",
    "    delta = np.mean(np.mean(v_i_squared, axis = 1) - mean_v_i_squared)\n",
    "    \n",
    "    # Compute sigma_n\n",
    "    sigma_n = delta_n / delta \n",
    "    return sigma_n"
   ]
  },
  {
   "cell_type": "code",
   "execution_count": 55,
   "metadata": {
    "scrolled": false
   },
   "outputs": [
    {
     "name": "stderr",
     "output_type": "stream",
     "text": [
      "\r",
      "  0%|          | 0/50 [00:00<?, ?it/s]"
     ]
    },
    {
     "name": "stdout",
     "output_type": "stream",
     "text": [
      "Starting simulation for dt = 0.25\n"
     ]
    },
    {
     "name": "stderr",
     "output_type": "stream",
     "text": [
      "100%|██████████| 50/50 [04:07<00:00,  4.95s/it]\n",
      "  0%|          | 0/50 [00:00<?, ?it/s]"
     ]
    },
    {
     "name": "stdout",
     "output_type": "stream",
     "text": [
      "Starting simulation for dt = 0.1\n"
     ]
    },
    {
     "name": "stderr",
     "output_type": "stream",
     "text": [
      "100%|██████████| 50/50 [09:46<00:00, 11.73s/it]\n",
      "  0%|          | 0/50 [00:00<?, ?it/s]"
     ]
    },
    {
     "name": "stdout",
     "output_type": "stream",
     "text": [
      "Starting simulation for dt = 0.01\n"
     ]
    },
    {
     "name": "stderr",
     "output_type": "stream",
     "text": [
      "100%|██████████| 50/50 [1:16:32<00:00, 91.84s/it] \n"
     ]
    },
    {
     "data": {
      "image/png": "[encoded data removed]",
      "text/plain": [
       "<Figure size 432x288 with 1 Axes>"
      ]
     },
     "metadata": {
      "needs_background": "light"
     },
     "output_type": "display_data"
    }
   ],
   "source": [
    "import datetime\n",
    "import time\n",
    "from tqdm import tqdm\n",
    "\n",
    "density = 50\n",
    "I_syn_bars = numpy.linspace(0, 1, num = density)\n",
    "dts = [0.25, 0.1, 0.01]\n",
    "styles = ['--', ':', '-.']\n",
    "rt = 10000\n",
    "\n",
    "\n",
    "# start_time = time.time()\n",
    "# exact_start = datetime.datetime.now()\n",
    "for dt, s in zip(dts, styles):\n",
    "#     print('Starting simulation for dt = ' + str(dt))\n",
    "    coherences = []\n",
    "    for i_bar in tqdm(I_syn_bars):\n",
    "        sp_m, st_m = simulation(dt, rt, i_bar, method='euler')\n",
    "\n",
    "        # FROM PAPER: coherences analysed between 5 and 10s in a 10s simulation and \n",
    "        # sampled every millisecond.\n",
    "        time_range = range(int(st_m.t.shape[0] / 2), st_m.t.shape[0], int(1 / dt))\n",
    "\n",
    "        V_arr = np.array(st_m.V[:, time_range])\n",
    "        sigma = sync_measure(V_arr)\n",
    "\n",
    "        coherences.append(sigma)\n",
    "\n",
    "    # Plot results.\n",
    "    plt.plot(I_syn_bars, coherences, s, label = 'dt = ' + str(dt))\n",
    "    \n",
    "plt.xlabel('I_syn_bar')\n",
    "plt.ylabel('S')\n",
    "plt.grid('on')\n",
    "plt.legend()\n",
    "# plt.show()\n",
    "\n",
    "plt.savefig(imgs_path + 'coherences.pdf')\n",
    "\n",
    "# neuron_idxs = [10 * x for x in range(0, 11)]\n",
    "# nice_plot(sp_m, st_m, neuron_idxs)"
   ]
  },
  {
   "cell_type": "code",
   "execution_count": null,
   "metadata": {},
   "outputs": [],
   "source": []
  }
 ],
 "metadata": {
  "kernelspec": {
   "display_name": "Python 3",
   "language": "python",
   "name": "python3"
  },
  "language_info": {
   "codemirror_mode": {
    "name": "ipython",
    "version": 3
   },
   "file_extension": ".py",
   "mimetype": "text/x-python",
   "name": "python",
   "nbconvert_exporter": "python",
   "pygments_lexer": "ipython3",
   "version": "3.8.5"
  }
 },
 "nbformat": 4,
 "nbformat_minor": 4
}
