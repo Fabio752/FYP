{
 "cells": [
  {
   "cell_type": "code",
   "execution_count": 1,
   "metadata": {},
   "outputs": [],
   "source": [
    "%matplotlib inline\n",
    "import brian2 as b2\n",
    "from brian2 import *"
   ]
  },
  {
   "cell_type": "code",
   "execution_count": 2,
   "metadata": {},
   "outputs": [],
   "source": [
    "# INFO FROM PAPER\n",
    "# coupled all to all\n",
    "# NO refractory period\n",
    "\n",
    "# QUESTIONS:\n",
    "# initial conditions? Imean?\n",
    "\n",
    "def visualise_connectivity(S):\n",
    "    Ns = len(S.source)\n",
    "    Nt = len(S.target)\n",
    "    figure(figsize=(10, 4))\n",
    "    subplot(121)\n",
    "    plot(zeros(Ns), arange(Ns), 'ok', ms=10)\n",
    "    plot(ones(Nt), arange(Nt), 'ok', ms=10)\n",
    "    for i, j in zip(S.i, S.j):\n",
    "        plot([0, 1], [i, j], '-k')\n",
    "    xticks([0, 1], ['Source', 'Target'])\n",
    "    ylabel('Neuron index')\n",
    "    xlim(-0.1, 1.1)\n",
    "    ylim(-1, max(Ns, Nt))\n",
    "    subplot(122)\n",
    "    plot(S.i, S.j, 'ok')\n",
    "    xlim(-1, Ns)\n",
    "    ylim(-1, Nt)\n",
    "    xlabel('Source neuron index')\n",
    "    ylabel('Target neuron index')\n",
    "    show()\n"
   ]
  },
  {
   "cell_type": "code",
   "execution_count": 3,
   "metadata": {},
   "outputs": [],
   "source": [
    "\n",
    "# Parameters\n",
    "N     =     3                             # number of neurons\n",
    "gl    =     0.1   * 10e-6                 # conductance of the voltage-independent leak current\n",
    "Vl    =     -60   *       mV              # reversal potential of the voltage-independent leak current\n",
    "# C     =       1   *       ufarad        # membrane capacitance\n",
    "tau   =     10    *       ms              # passive membrane time constant\n",
    "theta =     -40   *       mV              # membrane potential threshold\n",
    "tau1  =       3   *       ms              \n",
    "tau2  =       1   *       ms    \n",
    "I0    =    2.3    *     uvolt \n",
    "ISyn_bar = 0.78   *       uvolt\n",
    "\n",
    "\n",
    "# FOR INITIAL CONDITION \n",
    "# T = -tau * log((tau/second * I0 - theta) / (tau/second * I0 - Vl)) # FROM PREPRINT PAPER\n",
    "T = -tau * log(1 - gl/I0 * (theta - Vl)) # FROM FINAL PAPER\n",
    "\n",
    "c = 1\n"
   ]
  },
  {
   "cell_type": "code",
   "execution_count": 4,
   "metadata": {},
   "outputs": [],
   "source": [
    "k = tau/tau2\n",
    "\n",
    "eqs = '''\n",
    "dV/dt = (-(V-Vl)+I_syn + I0)/tau : volt\n",
    "'''\n",
    "\n",
    "integ = 1*second\n",
    "k = integ/tau2\n",
    "\n",
    "syn_eqs = '''\n",
    "dI_syn/dt = (k*s - I_syn)/tau1 : volt \n",
    "ds/dt = -s/tau2 : volt\n",
    "'''\n",
    "eqs = Equations(eqs + syn_eqs)\n"
   ]
  },
  {
   "cell_type": "code",
   "execution_count": 5,
   "metadata": {},
   "outputs": [
    {
     "name": "stderr",
     "output_type": "stream",
     "text": [
      "/home/fabio/.cython/brian_extensions/_cython_magic_bfb1b4505a6c6e0230829b8cc067755c.cpp:30:10: fatal error: Python.h: No such file or directory\n",
      "   30 | #include \"Python.h\"\n",
      "      |          ^~~~~~~~~~\n",
      "compilation terminated.\n",
      "WARNING    Cannot use Cython, a test compilation failed: command 'x86_64-linux-gnu-gcc' failed with exit status 1 (CompileError) [brian2.codegen.runtime.cython_rt.cython_rt.failed_compile_test]\n",
      "INFO       Cannot use compiled code, falling back to the numpy code generation target. Note that this will likely be slower than using compiled code. Set the code generation to numpy manually to avoid this message:\n",
      "prefs.codegen.target = \"numpy\" [brian2.devices.device.codegen_fallback]\n"
     ]
    },
    {
     "data": {
      "image/png": "[encoded data removed]",
      "text/plain": [
       "<Figure size 432x288 with 1 Axes>"
      ]
     },
     "metadata": {
      "needs_background": "light"
     },
     "output_type": "display_data"
    }
   ],
   "source": [
    "start_scope()\n",
    "defaultclock.dt = 0.01*ms\n",
    "\n",
    "########### NEURONS #######################\n",
    "G = NeuronGroup(N, eqs, threshold='V > theta', reset='V = Vl', method='exact')\n",
    "\n",
    "\n",
    "########### SYNAPSES #######################    \n",
    "S = Synapses(G, G)\n",
    "\n",
    "## Connect\n",
    "S.connect(condition='i!=j')\n",
    "S.s = 1 * mV\n",
    "\n",
    "## INIT.\n",
    "for idx in range(N):\n",
    "    # curr_V0 = tau/second * I0 + (Vl - (tau/second) * I0) * exp((-c * idx * T) / (N * tau)) # FROM PREPRINT PAPER\n",
    "    curr_V0 = Vl + I0/gl * (1 - exp(-c * (idx * T)/(N * tau))) # FROM FINAL PAPER\n",
    "    G.V[idx] = curr_V0\n",
    "    S.I_syn[idx] = 0\n",
    "\n",
    "\n",
    "\n",
    "########## VISUALISE ####################### \n",
    "par = 'I'\n",
    "runtime = 20*ms\n",
    "\n",
    "# State Monitors\n",
    "MV = StateMonitor(G, 'V', record=True)\n",
    "MC = StateMonitor(S, 'I_syn', record=True)\n",
    "\n",
    "# Run.\n",
    "run(runtime)\n",
    "\n",
    "# Plotting\n",
    "for idx in range (1):\n",
    "    off = idx * 50\n",
    "    if par == 'V':\n",
    "        plot(MV.t/ms, MV.V[off]/mV, label=('Neuron ' + str(off)))\n",
    "    if par == 'I':\n",
    "        plot(MC.t/ms, MC.I_syn[off]/mV, label=('Neuron ' + str(off)))\n",
    "\n",
    "xlabel('Time (ms)')\n",
    "ylabel(par)\n",
    "legend();"
   ]
  },
  {
   "cell_type": "markdown",
   "metadata": {},
   "source": [
    "# Experimental Part"
   ]
  },
  {
   "cell_type": "code",
   "execution_count": 6,
   "metadata": {},
   "outputs": [],
   "source": [
    "def nice_plot(sp_m, st_m, neuron_idxs, plot_voltages=True):\n",
    "\n",
    "    fig, ax = plt.subplots(4, figsize=(10, 5), sharex=True)\n",
    "\n",
    "    ax[0].plot(sp_m.t / ms, sp_m.i, '.k', ms=3)\n",
    "\n",
    "    if plot_voltages:\n",
    "        for i in neuron_idxs:\n",
    "            ax[1].plot(st_m.t / ms, st_m.V[i] / mV, label=\"Neuron \" + str(i))\n",
    "\n",
    "    ax[0].set_ylabel(\"cells\")\n",
    "    \n",
    "    ax[1].legend(loc=\"upper right\")\n",
    "    ax[1].set_ylabel(\"Voltages\")\n",
    "    \n",
    "    ax[2].plot(st_m.t / ms, st_m.s[1] / mV, lw=1, color=\"b\", ls=\"--\")\n",
    "    ax[2].set_ylabel(\"s\")\n",
    "\n",
    "    ax[3].plot(st_m.t / ms, st_m.I_syn[1] / mV, lw=1, color=\"b\", ls=\"--\")\n",
    "    ax[3].set_ylabel(\"I_syn\")\n",
    "    ax[3].set_xlabel(\"time (ms)\")\n",
    "    \n",
    "    plt.show()"
   ]
  },
  {
   "cell_type": "code",
   "execution_count": 7,
   "metadata": {},
   "outputs": [],
   "source": [
    "\n",
    "# Parameters\n",
    "N        =     128                           # number of neurons\n",
    "gl       =     0.1   *    mS / cm**2         # conductance of the voltage-independent leak current\n",
    "Vl       =     -60   *       mV              # reversal potential of the voltage-independent leak current\n",
    "C        =       1   *  ufarad / cm**2       # membrane capacitance\n",
    "tau      =     10    *       ms              # passive membrane time constant\n",
    "theta    =     -40   *       mV              # membrane potential threshold\n",
    "tau1     =       3   *       ms              \n",
    "tau2     =       1   *       ms    \n",
    "I0       =    2.3    *     uA / cm**2        # I0 / C -> get 2.3 kHz, time that by tau to get 23 mvolts. \n",
    "I_syn_bar =    0.3   *     uA / cm**2\n",
    "\n",
    "\n",
    "# FOR INITIAL CONDITION \n",
    "# T = -tau * log((tau/second * I0 - theta) / (tau/second * I0 - Vl)) # FROM PREPRINT PAPER\n",
    "T = -tau * log(1 - gl/I0 * (theta - Vl)) # FROM FINAL PAPER\n",
    "\n",
    "c = 1"
   ]
  },
  {
   "cell_type": "code",
   "execution_count": 8,
   "metadata": {},
   "outputs": [],
   "source": [
    "integ = 1\n",
    "k = integ/tau2 #  1/time\n",
    "\n",
    "# Try to add 1/C and change I0 accordingly.\n",
    "eqs_with_Ibar = '''\n",
    "dV/dt = (-gl * (V - Vl) + I_syn + I0) / C : volt\n",
    "I_syn = (I_syn_bar / N) * f * tau : amp / metre**2\n",
    "df/dt = (k * s - f) / tau1 : 1 / second\n",
    "ds/dt = -s / tau2 : 1\n",
    "'''\n",
    "\n",
    "# f is 1/time\n",
    "# s is dimensionless.\n",
    "# k should have dims so that dimensions match. (1/time). And integ 1 (dimensionless)\n",
    "eqs = '''\n",
    "dV/dt = (-(V-Vl)+ I_tot + I0)/tau : volt\n",
    "I_tot = I_syn : volt\n",
    "dI_syn/dt = (k*s - I_syn)/tau1 : volt\n",
    "ds/dt = -s/tau2 : volt\n",
    "'''\n"
   ]
  },
  {
   "cell_type": "code",
   "execution_count": 9,
   "metadata": {},
   "outputs": [
    {
     "data": {
      "image/png": "[encoded data removed]",
      "text/plain": [
       "<Figure size 720x360 with 4 Axes>"
      ]
     },
     "metadata": {
      "needs_background": "light"
     },
     "output_type": "display_data"
    }
   ],
   "source": [
    "'''\n",
    "    set the value of s so that f(t) integrated is 1. \n",
    "'''\n",
    "\n",
    "start_scope()\n",
    "defaultclock.dt = 0.01 * ms\n",
    "runtime = 200 * ms\n",
    "\n",
    "########### NEURONS #######################\n",
    "G = NeuronGroup(N, eqs_with_Ibar, threshold='V > theta', reset='V = Vl', method='exact')\n",
    "#G = NeuronGroup(N, eqs, threshold='V > theta', reset='V = Vl', method='exact')\n",
    "\n",
    "G.V = -60 * mV\n",
    "G.s = 1\n",
    "\n",
    "########### SYNAPSES #######################    \n",
    "S = Synapses(G, G, on_pre= \"s += 1\")\n",
    "\n",
    "## Connect\n",
    "S.connect(condition='i!=j')\n",
    "\n",
    "# INIT.\n",
    "for idx in range(N):\n",
    "    #curr_V0 = tau/second * I0 + (Vl - (tau/second) * I0) * exp((-c * idx * T) / (N * tau)) # FROM PREPRINT PAPER\n",
    "    curr_V0 = Vl + I0/gl * (1 - exp(-c * (idx * T)/(N * tau))) # FROM FINAL PAPER\n",
    "    G.V[idx] = curr_V0\n",
    "\n",
    "\n",
    "# MONITORS\n",
    "sp_m = b2.SpikeMonitor(G)\n",
    "\n",
    "st_m = b2.StateMonitor(G,[\"V\", \"I_syn\", \"s\"],record=True)\n",
    "\n",
    "net = b2.Network(G)\n",
    "net.add(sp_m)\n",
    "net.add(S)\n",
    "net.add(st_m)\n",
    "\n",
    "b2.run(runtime)\n",
    "\n",
    "neuron_idxs = [0, 1]\n",
    "nice_plot(sp_m, st_m, neuron_idxs)"
   ]
  },
  {
   "cell_type": "code",
   "execution_count": null,
   "metadata": {},
   "outputs": [],
   "source": []
  },
  {
   "cell_type": "code",
   "execution_count": null,
   "metadata": {},
   "outputs": [],
   "source": []
  }
 ],
 "metadata": {
  "kernelspec": {
   "display_name": "Python 3",
   "language": "python",
   "name": "python3"
  },
  "language_info": {
   "codemirror_mode": {
    "name": "ipython",
    "version": 3
   },
   "file_extension": ".py",
   "mimetype": "text/x-python",
   "name": "python",
   "nbconvert_exporter": "python",
   "pygments_lexer": "ipython3",
   "version": "3.8.5"
  }
 },
 "nbformat": 4,
 "nbformat_minor": 4
}
