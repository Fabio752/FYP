{
 "cells": [
  {
   "cell_type": "code",
   "execution_count": 20,
   "metadata": {},
   "outputs": [],
   "source": [
    "from brian2 import *"
   ]
  },
  {
   "cell_type": "code",
   "execution_count": 21,
   "metadata": {},
   "outputs": [],
   "source": [
    "# INFO FROM PAPER\n",
    "# coupled all to all\n",
    "# NO refractory period\n",
    "\n",
    "# QUESTIONS:\n",
    "# initial conditions? Imean?\n",
    "\n",
    "def visualise_connectivity(S):\n",
    "    Ns = len(S.source)\n",
    "    Nt = len(S.target)\n",
    "    figure(figsize=(10, 4))\n",
    "    subplot(121)\n",
    "    plot(zeros(Ns), arange(Ns), 'ok', ms=10)\n",
    "    plot(ones(Nt), arange(Nt), 'ok', ms=10)\n",
    "    for i, j in zip(S.i, S.j):\n",
    "        plot([0, 1], [i, j], '-k')\n",
    "    xticks([0, 1], ['Source', 'Target'])\n",
    "    ylabel('Neuron index')\n",
    "    xlim(-0.1, 1.1)\n",
    "    ylim(-1, max(Ns, Nt))\n",
    "    subplot(122)\n",
    "    plot(S.i, S.j, 'ok')\n",
    "    xlim(-1, Ns)\n",
    "    ylim(-1, Nt)\n",
    "    xlabel('Source neuron index')\n",
    "    ylabel('Target neuron index')\n",
    "    show()\n"
   ]
  },
  {
   "cell_type": "code",
   "execution_count": 22,
   "metadata": {},
   "outputs": [],
   "source": [
    "start_scope()\n",
    "\n",
    "# Parameters\n",
    "N     =     128                           # number of neurons\n",
    "gl    =     0.1   *    msiemens           # conductance of the voltage-independent leak current\n",
    "Vl    =     -60   *       mV              # reversal potential of the voltage-independent leak current\n",
    "C     =       1   *       ufarad          # membrane capacitance\n",
    "tau   =        C / gl / joule             # passive membrane time constant\n",
    "theta =     -40   *       mV              # membrane potential threshold\n",
    "tau1  =       3   *       ms              \n",
    "tau2  =       1   *       ms    \n",
    "Io    =     0.1   *       mA \n",
    "\n",
    "# FOR INITIAL CONDITION \n",
    "\n",
    "T = -tau*log((1/(tau*Io)- theta)/(1/(tau*Io) - Vl))\n",
    "c=1\n"
   ]
  },
  {
   "cell_type": "code",
   "execution_count": 23,
   "metadata": {},
   "outputs": [],
   "source": [
    "# tau1 = 3*ms\n",
    "# tau2 = 1*ms\n",
    "# t = linspace(0,20,100)*ms\n",
    "# y=1/(tau1-tau2)*(exp(-t/tau1)-exp(-t/tau2))\n",
    "\n",
    "# plot(t, y)\n"
   ]
  },
  {
   "cell_type": "code",
   "execution_count": 24,
   "metadata": {},
   "outputs": [],
   "source": [
    "# invpeak = 1\n",
    "# eqs = '''\n",
    "# dI_syn/dt = (invpeak * s - I_syn) / tau1 : amp\n",
    "# ds/dt = -s / tau2                        : amp\n",
    "# '''\n",
    "# G = NeuronGroup(1, eqs)\n",
    "# G.s = 1 * amp\n",
    "\n",
    "# M = StateMonitor(G, 'I_syn', record=True)\n",
    "# run(20*ms)\n",
    "# plot(M.t, M.I_syn[0])\n"
   ]
  },
  {
   "cell_type": "code",
   "execution_count": 25,
   "metadata": {},
   "outputs": [
    {
     "data": {
      "image/png": "[encoded data removed]",
      "text/plain": [
       "<Figure size 432x288 with 1 Axes>"
      ]
     },
     "metadata": {
      "needs_background": "light"
     },
     "output_type": "display_data"
    }
   ],
   "source": [
    "defaultclock.dt = 0.01*ms\n",
    "mx = log(3) * 3 / 2000 * second\n",
    "invpeak = 1/(tau1-tau2)*(exp(-mx/tau1)-exp(-mx/tau2)) * second\n",
    "eqs = '''\n",
    "dV/dt = (-gl*(V - Vl) + I_syn + Io) / C : volt\n",
    "'''\n",
    "\n",
    "syn_eqs = '''\n",
    "dI_syn/dt = (invpeak * s - I_syn) / tau1     : amp\n",
    "ds/dt     =  -s /  tau2                      : amp\n",
    "'''\n",
    "\n",
    "eqs = Equations(eqs + syn_eqs)\n",
    "\n",
    "########### NEURONS #######################\n",
    "G = NeuronGroup(N, eqs, threshold='V > theta', reset='V = Vl', method='exact')\n",
    "\n",
    "## Init Voltages.\n",
    "for neu in range (N):\n",
    "    G.V[neu] = 1/(tau * Io) + (Vl - 1/(tau*Io)) * exp(-c*(neu)*T/(N*tau))\n",
    "    G.I_syn[neu] = 0\n",
    "\n",
    "    #print(G.V[neu])\n",
    "\n",
    "########### SYNAPSES #######################    \n",
    "S = Synapses(G, G, 'w: amp', on_pre='I_syn += w')\n",
    "\n",
    "## Connect\n",
    "S.connect(condition='i!=j')\n",
    "\n",
    "## Init weight and parameter.\n",
    "S.w = 0.03 * mA\n",
    "S.s = 1 * amp\n",
    "\n",
    "\n",
    "########## VISUALISE ####################### \n",
    "par = 'I'\n",
    "runtime = 20*ms\n",
    "\n",
    "# State Monitors\n",
    "MV = StateMonitor(G, 'V', record=True)\n",
    "MC = StateMonitor(S, 'I_syn', record=True)\n",
    "\n",
    "# Run.\n",
    "run(runtime)\n",
    "\n",
    "# Plotting\n",
    "for idx in range (3):\n",
    "    if par == 'V':\n",
    "        plot(MV.t/ms, MV.V[idx*40], label=('Neuron ' + str(idx*40)))\n",
    "    if par == 'I':\n",
    "        plot(MC.t/ms, MC.I_syn[idx*10], label=('Neuron ' + str(idx*10)))\n",
    "\n",
    "xlabel('Time (ms)')\n",
    "ylabel(par)\n",
    "legend();"
   ]
  },
  {
   "cell_type": "code",
   "execution_count": 7,
   "metadata": {},
   "outputs": [],
   "source": [
    "# visualise_connectivity(S)"
   ]
  },
  {
   "cell_type": "code",
   "execution_count": null,
   "metadata": {},
   "outputs": [],
   "source": []
  },
  {
   "cell_type": "code",
   "execution_count": null,
   "metadata": {},
   "outputs": [],
   "source": []
  }
 ],
 "metadata": {
  "kernelspec": {
   "display_name": "Python 3",
   "language": "python",
   "name": "python3"
  },
  "language_info": {
   "codemirror_mode": {
    "name": "ipython",
    "version": 3
   },
   "file_extension": ".py",
   "mimetype": "text/x-python",
   "name": "python",
   "nbconvert_exporter": "python",
   "pygments_lexer": "ipython3",
   "version": "3.7.6"
  }
 },
 "nbformat": 4,
 "nbformat_minor": 4
}
